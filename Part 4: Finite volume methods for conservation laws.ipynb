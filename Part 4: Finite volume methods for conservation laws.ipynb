{
 "cells": [
  {
   "cell_type": "markdown",
   "metadata": {},
   "source": [
    "[TODO] This section is currently undeveloped, and is mostly a placeholder while I work on Part 5: Finite element methods."
   ]
  },
  {
   "cell_type": "markdown",
   "metadata": {},
   "source": [
    "In the last section, we developed many schemes for approximating hyperbolic PDEs. However, none of them had satisfactory performance when faced with discontinuities or poor initial conditions, and many exhibited diffusion which smoothed out the solutions in an inaccurate way. Moreover, in some equations such as Burgers' equation, discontinuities or shocks can form even when the initial conditions are very nice. "
   ]
  },
  {
   "cell_type": "markdown",
   "metadata": {},
   "source": [
    "Many hyperbolic equations can be formulated as conservation laws, in that they specify that some quantity is conserved (except on the boundary)."
   ]
  }
 ],
 "metadata": {
  "kernelspec": {
   "display_name": "Python 3.10.6 64-bit",
   "language": "python",
   "name": "python3"
  },
  "language_info": {
   "name": "python",
   "version": "3.10.6"
  },
  "orig_nbformat": 4,
  "vscode": {
   "interpreter": {
    "hash": "916dbcbb3f70747c44a77c7bcd40155683ae19c65e1c03b4aa3499c5328201f1"
   }
  }
 },
 "nbformat": 4,
 "nbformat_minor": 2
}
