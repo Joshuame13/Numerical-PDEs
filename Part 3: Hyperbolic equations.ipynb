{
 "cells": [
  {
   "cell_type": "markdown",
   "metadata": {},
   "source": [
    "The previous section dealt with parabolic equations like the heat equation, in which information traveled at infinite speed. In contrast, in a hyperbolic system, there is a fixed maximum speed at which information can travel. The simplest hyperbolic equation is the transport equation:\n",
    "$$\n",
    "    u_t + a u_x = 0,\\\\\n",
    "    u(x, 0) = g(x)\n",
    "$$\n",
    "where $a$ is any constant (positive or negative) and $g$ specifies the initial conditions."
   ]
  },
  {
   "cell_type": "markdown",
   "metadata": {},
   "source": [
    "If we set $f(s) = u(x_0 + a s,t_0 + s)$ then \n",
    "$$\n",
    "    df/ds = u_x(x_0+as, t_0+s)(a) + u_t(x_0+as,t_0+s) = 0.\n",
    "$$\n",
    "This tells us that $f$ is constant, and $f(s) = f(0)$. So $u(x_0 + a s,t_0 + s) = u(x_0, t_0)$. Finally, we can use $s = t_0$ to see that\n",
    "$$\n",
    "    u(x_0, t_0) = u(x_0 - a t_0, t_0 - t_0) = g(x_0 - a t_0).\n",
    "$$\n",
    "Thus, we have found the general solution $u(x, t) = g(x - at)$. "
   ]
  },
  {
   "cell_type": "markdown",
   "metadata": {},
   "source": [
    "All that the linear transport equation does is take the initial conditions and shift them over time, with a speed of $a$. For this reason, we can say that information travels with a finite speed, namely $a$. In the heat equation, we saw that a scheme which did not take into account global information did very poorly. In contrast, we expect that a scheme which takes into account only local information can be just fine, because all the information needed to propagate the solution forward is local."
   ]
  },
  {
   "cell_type": "markdown",
   "metadata": {},
   "source": [
    "With knowledge of the general solution in hand, the linear transport equation becomes trivial to solve numerically, but it will be a good testbed for schemes which may be extended to more difficult problems. We will find out that many schemes do not perform nearly as well as we would have hoped, especially if the initial conditions are not particularly nice."
   ]
  }
 ],
 "metadata": {
  "language_info": {
   "name": "python"
  },
  "orig_nbformat": 4
 },
 "nbformat": 4,
 "nbformat_minor": 2
}
